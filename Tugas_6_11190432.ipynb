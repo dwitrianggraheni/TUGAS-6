{
 "cells": [
  {
   "cell_type": "code",
   "execution_count": null,
   "metadata": {
    "id": "rHy5qNEzCw4G"
   },
   "outputs": [],
   "source": []
  },
  {
   "cell_type": "markdown",
   "metadata": {
    "id": "01TN_fjwL-dN"
   },
   "source": [
    "Buatlah aplikasi Data Mahasiswa sebagai berikut:\n",
    "\n",
    "INPUT DATA MAHASISWA\n",
    "\n",
    "NIM    :\n",
    "\n",
    "NAMA   :\n",
    "\n",
    "ALAMAT :\n",
    "\n",
    "JURUSAN :\n",
    "\n",
    "KETERANGAN JURUSAN [1] SISTEM INFORMASI [2] TEKNIK INFORMATIKA\n",
    "\n",
    "Apakah Anda ingin memasukkan data lagi ? (Y) Ya ; (T) Tidak : \n",
    "\n",
    "\n"
   ]
  },
  {
   "cell_type": "markdown",
   "metadata": {
    "id": "NlRdQu4hNPdv"
   },
   "source": [
    "**Requirement I**\n",
    "\n",
    "Perulangan input akan terjadi jika user memasukkan “Y”, maka selanjutnya akan memasukkan data mahasiswa lagi dan jika user memasukkan data “T”, maka aplikasi berhenti, kemudian menampilkan data yang telah dimasukan.\n"
   ]
  },
  {
   "cell_type": "markdown",
   "metadata": {
    "id": "wj2BlsC-OFSW"
   },
   "source": [
    "**Requirement II**\n",
    "\n",
    "Desainlah aplikasi Data Mahasiswa tersebut dengan konsep enkapsulasi, constructor dan inheritance (tentukan parent class dan child class)."
   ]
  },
  {
   "cell_type": "markdown",
   "metadata": {
    "id": "cIX3WGqPOLzF"
   },
   "source": [
    "**Requirement III**\n",
    "\n",
    "Implementasikan class-class yang telah didesain dengan membuat program sederhana entri data Mahasiswa "
   ]
  },
  {
   "cell_type": "code",
   "execution_count": 1,
   "metadata": {
    "id": "Ge48DNVFDqjh"
   },
   "outputs": [],
   "source": [
    "#Jawaban Tugas 6\n",
    "\n",
    "class Mahasiswa:\n",
    "    \n",
    "    data=[]\n",
    "    def DataMahasiswa(self,Nim,Nama,Alamat,Jurusan):\n",
    "        self.Nim      = Nim\n",
    "        self.Nama     = Nama\n",
    "        self.Alamat   = Alamat \n",
    "        self.Jurusan  = Jurusan"
   ]
  },
  {
   "cell_type": "code",
   "execution_count": 2,
   "metadata": {},
   "outputs": [],
   "source": [
    "class Maba (Mahasiswa):  \n",
    "    \n",
    "    def Cek_data(self):   \n",
    "        while True:\n",
    "            print ('Input Data Mahasiswa')\n",
    "            print (\"1.SISTEM INFORMASI/2.TEKNIK INFORMATIKA\")\n",
    "            mhs = Mahasiswa()\n",
    "            mhs.Nim     = input('Nim =')\n",
    "            mhs.Nama    = input('Nama    =')\n",
    "            mhs.Alamat  = input('Alamat  =')\n",
    "            mhs.Jurusan = input('Jurusan =')\n",
    "            if mhs.Jurusan == '1' :\n",
    "                print(\"SISTEM INFORMASI\")\n",
    "            else:\n",
    "                print(\"TEKNIK INFORMATIKA\")\n",
    "                self.data.append(mhs)\n",
    "            pilih = input(\"input Mahasiswa ? (Y/T)\")\n",
    "            if pilih == \"Y\" or pilih == 'y':\n",
    "                self.Cek_data()\n",
    "            break\n",
    "                \n",
    "    def tampil(self):\n",
    "        for i in self.data:\n",
    "            print(\"Nim     : \"+ i.Nim)\n",
    "            print(\"Nama    : \"+ i.Nama) \n",
    "            print(\"Alamat  : \"+ i.Alamat) \n",
    "            print(\"Jurusan : \"+ i.Jurusan)"
   ]
  },
  {
   "cell_type": "code",
   "execution_count": 3,
   "metadata": {},
   "outputs": [],
   "source": [
    "data = Maba()"
   ]
  },
  {
   "cell_type": "code",
   "execution_count": 5,
   "metadata": {},
   "outputs": [
    {
     "name": "stdout",
     "output_type": "stream",
     "text": [
      "Input Data Mahasiswa\n",
      "1.SISTEM INFORMASI/2.TEKNIK INFORMATIKA\n",
      "Nim =11190432\n",
      "Nama    =DWI TRI ANGGRAHENI\n",
      "Alamat  =TEMPEL SLEMAN YOGYAKARTA\n",
      "Jurusan =1\n",
      "SISTEM INFORMASI\n",
      "input Mahasiswa ? (Y/T)Y\n",
      "Input Data Mahasiswa\n",
      "1.SISTEM INFORMASI/2.TEKNIK INFORMATIKA\n",
      "Nim =11190436\n",
      "Nama    =FATIKHA SARI\n",
      "Alamat  =LAMPUNG WAY KANAN\n",
      "Jurusan =1\n",
      "SISTEM INFORMASI\n",
      "input Mahasiswa ? (Y/T)T\n"
     ]
    }
   ],
   "source": [
    "data.Cek_data()"
   ]
  },
  {
   "cell_type": "code",
   "execution_count": null,
   "metadata": {},
   "outputs": [],
   "source": []
  }
 ],
 "metadata": {
  "colab": {
   "collapsed_sections": [],
   "name": "Tugas_6.ipynb",
   "provenance": []
  },
  "kernelspec": {
   "display_name": "Python 3",
   "language": "python",
   "name": "python3"
  },
  "language_info": {
   "codemirror_mode": {
    "name": "ipython",
    "version": 3
   },
   "file_extension": ".py",
   "mimetype": "text/x-python",
   "name": "python",
   "nbconvert_exporter": "python",
   "pygments_lexer": "ipython3",
   "version": "3.8.3"
  }
 },
 "nbformat": 4,
 "nbformat_minor": 1
}
